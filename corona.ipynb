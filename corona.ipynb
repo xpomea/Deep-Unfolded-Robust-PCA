{
 "cells": [
  {
   "cell_type": "code",
   "execution_count": 1,
   "metadata": {
    "id": "sJviRB4jodkV"
   },
   "outputs": [],
   "source": [
    "import numpy as np\n",
    "from scipy.io import loadmat, savemat\n",
    "\n",
    "import torch\n",
    "import torch.nn as nn\n",
    "from torch.utils.data import Dataset, DataLoader, random_split\n",
    "\n",
    "from pathlib import Path\n",
    "import math\n",
    "\n",
    "import os\n",
    "import time\n",
    "import datetime\n",
    "import matplotlib.pyplot as plt\n",
    "\n",
    "import cv2"
   ]
  },
  {
   "cell_type": "markdown",
   "metadata": {
    "id": "6eFqkVitVg82"
   },
   "source": [
    "### Data"
   ]
  },
  {
   "cell_type": "markdown",
   "metadata": {
    "id": "ECvDrBueeu_8"
   },
   "source": [
    "> In this project, the model is designed for complex-valued video, you need to read the file and treat it as a complex-valued video, whether it is a complex-valued video or a real-valued video, and then store it as real-valued data"
   ]
  },
  {
   "cell_type": "markdown",
   "metadata": {
    "id": "dgqfW3VcVikS"
   },
   "source": [
    "> In the data folder, there are 9 MAT files, and each file has three 3D arrays of size (H,W,T<sub>total</sub>):\n",
    "> * D: raw data, original video\n",
    "> * L: low rank part, background\n",
    "> * S: sparse part, foreground\n",
    ">\n",
    "> where H is the height of the frame, W is the width of the frame, and T<sub>total</sub> is the total number of frames in the video. Also, the frame size has been resized to 100*100 (meaning H = W = 100)"
   ]
  },
  {
   "cell_type": "markdown",
   "metadata": {
    "id": "x_T9MKyPVj2C"
   },
   "source": [
    "**Read files and Get data**\n",
    "\n",
    "Description: You already know the location of the files containing the videos, please read them and gather and organize the data.\n",
    "\n",
    "Requirements:\n",
    "1. You need to sample a continuous segment of length T (num_frames in the code) from the video every few frames (stride in the code), each segment of size (H,W,T)\n",
    "2. Because the model only accepts real-valued data, and the segment is complex-valued, it is necessary to concatenate the real and imaginary parts of the video along the third dimension.\n",
    " * Size changed from (H,W,T) to (H,W,T2), where T2 = T × 2, the first T 2D arrays are the real part of the segment, and the last T 2D arrays are the imaginary part of the segment\n",
    "3. Function I/O\n",
    " * Input: A MAT file, num_frames, stride\n",
    " * Output: D, L, S (the size should be (N,1,H,W,T2), where N is the number of segments of size (H,W,T2))"
   ]
  },
  {
   "cell_type": "code",
   "execution_count": 2,
   "metadata": {
    "id": "fq1gY8bRVmOl"
   },
   "outputs": [],
   "source": [
    "def get_data(file, num_frames=40, stride=10):\n",
    "    data = loadmat(file, mat_dtype=True)\n",
    "    D, L, S = data[\"D\"], data[\"L\"], data[\"S\"]\n",
    "    D = D.astype(np.complex64)\n",
    "\n",
    "    segments = []\n",
    "    for i in range(0, D.shape[2] - num_frames + 1, stride):\n",
    "        segment_D = D[:, :, i:i + num_frames]\n",
    "        segment_L = L[:, :, i:i + num_frames]\n",
    "        segment_S = S[:, :, i:i + num_frames]\n",
    "        segments.append((segment_D, segment_L, segment_S))\n",
    "\n",
    "    segments = np.array(segments)\n",
    "\n",
    "    segments_complex = segments.astype(np.complex64)\n",
    "    segments_real = np.real(segments_complex)\n",
    "    segments_imag = np.imag(segments_complex)\n",
    "    segments_concat = np.concatenate((segments_real, segments_imag), axis=-1)\n",
    "\n",
    "    return torch.from_numpy(np.expand_dims(segments_concat[:, 0], axis=1)), torch.from_numpy(np.expand_dims(segments_concat[:, 1], axis=1)), torch.from_numpy(np.expand_dims(segments_concat[:, 2], axis=1))\n",
    "# get_data('data/Board.mat')"
   ]
  },
  {
   "cell_type": "markdown",
   "metadata": {
    "id": "0Khx0QN7Vq9T"
   },
   "source": [
    "**Building a custom dataset**\n",
    "\n",
    "Requirement:\n",
    "1. You now get D, L, S, build a custom dataset for loading data"
   ]
  },
  {
   "cell_type": "code",
   "execution_count": 3,
   "metadata": {
    "id": "rChqoi3IVvfT"
   },
   "outputs": [],
   "source": [
    "class CustomDataset(Dataset):\n",
    "    def __init__(self, D, L, S, transform=None):\n",
    "        self.D, self.L, self.S = D, L, S\n",
    "        self.transform = transform\n",
    "\n",
    "    def __len__(self):\n",
    "        return len(self.D)\n",
    "\n",
    "    def __getitem__(self, index):\n",
    "        x = self.D[index],\n",
    "        y = (self.L[index], self.S[index])\n",
    "\n",
    "        if self.transform:\n",
    "            x = self.transform(x)\n",
    "\n",
    "        return x, y"
   ]
  },
  {
   "cell_type": "markdown",
   "metadata": {
    "id": "_fNp3CEcsEJC"
   },
   "source": [
    "### Model"
   ]
  },
  {
   "cell_type": "markdown",
   "metadata": {
    "id": "7iWlXTIrZ2Bd"
   },
   "source": [
    "> You'll be writing code for soft thresholding in your model, so here's a brief description of what soft thresholding is and how to use it\n",
    ">\n",
    "> * Hard thresholding will turn values close to 0 directly to 0, while soft thresholding will move all values closer to 0 (too close will directly become 0)\n",
    ">\n",
    "> * Using a soft threshold with $ℓ_1$-norm can make variables sparse, in practice you can often see many people use it because $ℓ_1$-norm has good properties (convex, continuous, sub-differentiable)\n",
    ">\n",
    "> * Suppose now you have a variable $x$ (scalar or vector) and a threshold $t \\geq 0$, you can do soft thresholding on $x$ as follows:\n",
    ">\n",
    ">  1. Change $x = ||x||_2 × \\frac{x}{||x||_2}$, the first part shows the magnitude and the second part shows the direction\n",
    ">  2. We do the thresholding on the magnitude, so change the magnitude to $\\text{ReLU}(||x||_2 - t)$\n",
    ">  3. The result $x'= \\text{ReLU}(||x||_2 - t) × \\frac{x}{||x||_2} = (||x||_2 - t)_{+} × \\frac{x}{||x||_2}$\n",
    "> * From the above example, you can find that the most important thing is to find an appropriate threshold $t$, which is what we want the model to learn\n",
    ">"
   ]
  },
  {
   "cell_type": "markdown",
   "metadata": {
    "id": "TMOPuD8VPNl9"
   },
   "source": [
    "**Complex Convolutional 3D Layer**\n",
    "\n",
    "From the equation:\n",
    "\n",
    "Y = X × W \\\n",
    "= Y<sub>real</sub> + jY<sub>imag</sub>\n",
    "= (X<sub>real</sub> + jX<sub>imag</sub>) × (W<sub>real</sub> + jW<sub>imag</sub>)\\\n",
    "= X<sub>real</sub> × W<sub>real</sub> + X<sub>real</sub> × jW<sub>imag</sub> + jXi × W<sub>real</sub> + jX<sub>imag</sub> × jW<sub>imag</sub> \\\n",
    "= (X<sub>real</sub> × W<sub>real</sub> - X<sub>imag</sub> × W<sub>imag</sub>) + j(X<sub>real</sub> × W<sub>imag</sub> + X<sub>imag</sub> × W<sub>real</sub>)\n",
    "\n",
    "We can easily find out how to directly use the real and imaginary parts of the input and weight to get the correct result Y<sub>real</sub>, Y<sub>imag</sub> (all are real-valued)\n",
    "\n",
    "Requirements:\n",
    "* Construct the Conv3dC class"
   ]
  },
  {
   "cell_type": "code",
   "execution_count": 4,
   "metadata": {
    "id": "Mu2q1IWyPNQN"
   },
   "outputs": [],
   "source": [
    "class Conv3dC(nn.Module):\n",
    "    def __init__(self, kernel_size):\n",
    "        super(Conv3dC, self).__init__()\n",
    "\n",
    "        self.kernel_size = kernel_size\n",
    "\n",
    "        self.convR = nn.Conv3d(1, 1, kernel_size=kernel_size, padding='same')  # W_real\n",
    "        self.convI = nn.Conv3d(1, 1, kernel_size=kernel_size, padding='same')  # W_imag\n",
    "\n",
    "    def forward(self, X):\n",
    "        T = X.shape[-1] // 2\n",
    "        R = X[..., :T]\n",
    "        I = X[..., T:]\n",
    "        Y = torch.concat([self.convR(R) - self.convI(I), self.convR(I) + self.convI(R)], dim=-1)\n",
    "        return Y\n"
   ]
  },
  {
   "cell_type": "markdown",
   "metadata": {
    "id": "2avLScmbkTz7"
   },
   "source": [
    "**Combination of three Complex Convolutional 3D Layers**"
   ]
  },
  {
   "cell_type": "code",
   "execution_count": 5,
   "metadata": {
    "id": "U_yFlym3rxkz"
   },
   "outputs": [],
   "source": [
    "class Conv3dCx3(nn.Module):\n",
    "    def __init__(self, kernel_size):\n",
    "        super(Conv3dCx3, self).__init__()\n",
    "\n",
    "        self.kernel_size = kernel_size\n",
    "\n",
    "        self.convD = Conv3dC(kernel_size)\n",
    "        self.convL = Conv3dC(kernel_size)\n",
    "        self.convS = Conv3dC(kernel_size)\n",
    "\n",
    "    def forward(self, X):\n",
    "        D, L, S = X\n",
    "        D = self.convD(D)\n",
    "        L = self.convL(L)\n",
    "        S = self.convS(S)\n",
    "        return D + L + S"
   ]
  },
  {
   "cell_type": "markdown",
   "metadata": {
    "id": "pDMhUbR3kZMa"
   },
   "source": [
    "**Singular Value Thresholding (SVT)**\n",
    "\n",
    "Description:\n",
    "* SVT is used to make the matrix low rank, the principle is to make the singular value sparse\n",
    "* Learnable parameter: lambda_L\n",
    "* Threshold: sigmoid(lambda_L) × coeff_L × maximum singular value\n",
    "* Each segment (containing many frames) has a threshold\n",
    "* Reshape input of size (N,1,H,W,T2) to (N,1,H×W,T2) and convert it to a complex-valued version of size (N,1,H×W,T), and do sigular value thresholding for each sample of size (H×W,T)\n",
    "\n",
    "Requirements:\n",
    "* Please complete the forward function"
   ]
  },
  {
   "cell_type": "code",
   "execution_count": 6,
   "metadata": {
    "id": "Y_yD0EiysKGC"
   },
   "outputs": [],
   "source": [
    "class SVT(nn.Module):\n",
    "    def __init__(self, coeff_L):\n",
    "        super(SVT, self).__init__()\n",
    "\n",
    "        self.coeff_L = coeff_L\n",
    "        self.lambda_L = nn.Parameter(torch.zeros(1, requires_grad=True))\n",
    "\n",
    "        self.relu = nn.ReLU(inplace=True)\n",
    "        self.sigmoid = nn.Sigmoid()\n",
    "\n",
    "    def forward(self, X):\n",
    "        s = X.shape\n",
    "        X = X.reshape([s[0], s[1], s[2] * s[3], s[4]])\n",
    "        t = s[4] // 2\n",
    "        XC = torch.complex(X[..., :t], X[..., t:])\n",
    "\n",
    "        U, S, Vt = torch.linalg.svd(XC, full_matrices=False)\n",
    "        a = self.sigmoid(self.lambda_L) * self.coeff_L * S.max(dim=-1).values\n",
    "        S_tr = torch.diag_embed(self.relu(S - a.reshape([s[0], 1, 1]))).type(torch.complex64)\n",
    "\n",
    "        Y = U @ S_tr @ Vt\n",
    "        Y = torch.concat([Y.real, Y.imag], dim=-1).reshape(s)\n",
    "\n",
    "        return Y"
   ]
  },
  {
   "cell_type": "markdown",
   "metadata": {
    "id": "XTZYIQkikmKU"
   },
   "source": [
    "**Soft Thresholding (SFT)**\n",
    "\n",
    "Description:\n",
    "* SFT is used to make the array sparse\n",
    "* Learnable parameter: lambda_S\n",
    "* Threshold: sigmoid(lambda_S) × coeff_S × (root) mean square of elements per frame\n",
    "* Each frame has a threshold\n",
    "\n",
    "Requirements:\n",
    "* Please complete the forward function"
   ]
  },
  {
   "cell_type": "code",
   "execution_count": 7,
   "metadata": {
    "id": "IOLdiIhbsOBx"
   },
   "outputs": [],
   "source": [
    "class SFT(nn.Module):\n",
    "    def __init__(self, coeff_S):\n",
    "        super(SFT, self).__init__()\n",
    "\n",
    "        self.coeff_S = coeff_S\n",
    "        self.lambda_S = nn.Parameter(torch.zeros(1, requires_grad=True))\n",
    "\n",
    "        self.relu = nn.ReLU()\n",
    "        self.sigmoid = nn.Sigmoid()\n",
    "\n",
    "    def forward(self, X):\n",
    "        s = X.shape\n",
    "        X = X.reshape([s[0], s[1], s[2] * s[3], s[4]])\n",
    "        t = s[4] // 2\n",
    "        XC = torch.complex(X[..., :t], X[..., t:])\n",
    "\n",
    "        a = self.sigmoid(self.lambda_S) * self.coeff_S * torch.sqrt((XC ** 2).mean(dim=[-2, -1]))\n",
    "        tr = 1 - a / torch.linalg.norm(XC, 2, dim=[-2, -1])\n",
    "        Y = (self.relu(tr.real) + 1.j * self.relu(tr.imag)).reshape((s[0], s[1], 1, 1)) * XC\n",
    "        Y = torch.concat([Y.real, Y.imag], dim=-1).reshape(s)\n",
    "        \n",
    "        return Y"
   ]
  },
  {
   "cell_type": "markdown",
   "metadata": {
    "id": "oSiTDzS5l4hC"
   },
   "source": [
    "**ISTA Cell**\n",
    "\n",
    "Requirements:\n",
    "* Combining modules from above, construct a full ISTA Cell"
   ]
  },
  {
   "cell_type": "code",
   "execution_count": 8,
   "metadata": {
    "id": "4D7eF2XHsUUi"
   },
   "outputs": [],
   "source": [
    "class ISTACell(nn.Module):\n",
    "    def __init__(self, kernel_size, coeff_L, coeff_S):\n",
    "        super(ISTACell, self).__init__()\n",
    "\n",
    "        self.kernel_size = kernel_size\n",
    "        self.coeff_L = coeff_L\n",
    "        self.coeff_S = coeff_S\n",
    "\n",
    "        self.netL = nn.Sequential(Conv3dCx3(kernel_size), SVT(coeff_L))\n",
    "        self.netS = nn.Sequential(Conv3dCx3(kernel_size), SFT(coeff_S))\n",
    "\n",
    "    def forward(self, X):\n",
    "        D = X[0]\n",
    "        L = self.netL(X)\n",
    "        S = self.netS(X)\n",
    "\n",
    "        Y = torch.zeros(X.shape).to(X.device)\n",
    "        Y[0], Y[1], Y[2] = D, L, S\n",
    "        return Y"
   ]
  },
  {
   "cell_type": "markdown",
   "metadata": {
    "id": "cJVjpmSrmG3J"
   },
   "source": [
    "**Deep Network: Convolutional rObust pRincipal cOmpoNent Analysis (CORONA)**\n",
    "\n",
    "Description:\n",
    "* kernel_list contains some integers, each integer k can be used to set the kernel_size = [k,k,1] of the corresponding layer\n",
    "\n",
    "Requirement:\n",
    "* Construct the CORONA network"
   ]
  },
  {
   "cell_type": "code",
   "execution_count": 9,
   "metadata": {
    "id": "qePcOBxBsaD5"
   },
   "outputs": [],
   "source": [
    "class CORONA(nn.Module):\n",
    "    def __init__(self, kernel_list, coeff_L=0.4, coeff_S=1.8):\n",
    "        super(CORONA, self).__init__()\n",
    "        self.kernel_list = kernel_list\n",
    "        self.coeff_L = coeff_L\n",
    "        self.coeff_S = coeff_S\n",
    "\n",
    "        self.net = nn.Sequential(*[ISTACell(layer, self.coeff_L, self.coeff_S) for layer in kernel_list])\n",
    "\n",
    "    def forward(self, D):\n",
    "        X = torch.zeros([3] + list(D.shape)).to(D.device)\n",
    "        X[0] = D\n",
    "        X = self.net(X)\n",
    "        L, S = X[1], X[2]\n",
    "        return L, S"
   ]
  },
  {
   "cell_type": "markdown",
   "metadata": {
    "id": "xDQf4kMzCie3"
   },
   "source": [
    "### Compute loss\n",
    "\n",
    "Input:\n",
    "* target = (target_L, target_S)\n",
    "\n",
    "Requirement:\n",
    "* Create a function which computes output of net on the given input and calculates loss value for it"
   ]
  },
  {
   "cell_type": "code",
   "execution_count": 10,
   "metadata": {
    "id": "pwRySj-zCliH"
   },
   "outputs": [],
   "source": [
    "def get_loss(net, input_D, target, alpha=0.5):\n",
    "    output_L, output_S = net(input_D)\n",
    "    target_L, target_S = target\n",
    "\n",
    "    criterion = nn.MSELoss()\n",
    "\n",
    "    loss_L = criterion(output_L, target_L)\n",
    "    loss_S = criterion(output_S, target_S)\n",
    "    loss = alpha * loss_L + (1 - alpha) * loss_S\n",
    "\n",
    "    return loss"
   ]
  },
  {
   "cell_type": "markdown",
   "metadata": {
    "id": "g6h0T52zXbA5"
   },
   "source": [
    "### Function for constructing videos\n",
    "\n",
    "Input:\n",
    "* images_array is of size (H,W,T)"
   ]
  },
  {
   "cell_type": "code",
   "execution_count": 11,
   "metadata": {
    "id": "7mUfAEMjjXro"
   },
   "outputs": [],
   "source": [
    "def array_to_gray_video(images_array, video_name, fps=30):\n",
    "    # Get the height and width of the video, assuming all frames have the same size\n",
    "    height, width = images_array.shape[0], images_array.shape[1]\n",
    "\n",
    "    # Set the video codec to mp4\n",
    "    fourcc = cv2.VideoWriter_fourcc(*\"mp4v\")\n",
    "\n",
    "    # Create a VideoWriter object, with parameters for the output file name, codec, frame rate, and size\n",
    "    video = cv2.VideoWriter(video_name, fourcc, fps, (width, height), isColor=False)\n",
    "\n",
    "    # Write each frame in the numpy array to the output video\n",
    "    for i in range(images_array.shape[2]):\n",
    "        image = images_array[:, :, i]\n",
    "        image = np.uint8(image)  # Convert to uint8 format\n",
    "        video.write(image)\n",
    "\n",
    "    # Release the resources used by the VideoWriter and destroy any OpenCV windows\n",
    "    video.release()\n",
    "    cv2.destroyAllWindows()"
   ]
  },
  {
   "cell_type": "markdown",
   "metadata": {
    "id": "JQVyhkAlWCOT"
   },
   "source": [
    "### Main"
   ]
  },
  {
   "cell_type": "markdown",
   "metadata": {
    "id": "yNvwVd1mAZFR"
   },
   "source": [
    "Decide which device to use"
   ]
  },
  {
   "cell_type": "code",
   "execution_count": 12,
   "metadata": {
    "id": "jOqucvKo6O3A"
   },
   "outputs": [],
   "source": [
    "device = torch.device('cuda')"
   ]
  },
  {
   "cell_type": "markdown",
   "metadata": {
    "id": "dcH5PHFcJwzI"
   },
   "source": [
    "**Get data**\n",
    "\n",
    "Requirements:\n",
    "* Get data from the files and concatenate them\n",
    "* Build datasets and dataloaders"
   ]
  },
  {
   "cell_type": "code",
   "execution_count": 13,
   "metadata": {
    "colab": {
     "base_uri": "https://localhost:8080/"
    },
    "id": "ZrqzVWd3WDY6",
    "outputId": "6d229432-2643-4173-9e68-24b02415a750"
   },
   "outputs": [
    {
     "name": "stdout",
     "output_type": "stream",
     "text": [
      "['Board.mat', 'Candela_m1.mat', 'CAVIAR1.mat', 'CaVignal.mat', 'HallAndMonitor.mat', 'HighwayI.mat', 'HighwayII.mat', 'IBMtest2.mat', 'Snellen.mat']\n"
     ]
    }
   ],
   "source": [
    "path = 'data'\n",
    "file_list = os.listdir(path)\n",
    "print(file_list)\n",
    "\n",
    "D_list, L_list, S_list = [], [], []\n",
    "for file in file_list:\n",
    "    Di, Li, Si = get_data(path + '/' + file)\n",
    "    D_list.append(Di)\n",
    "    L_list.append(Li)\n",
    "    S_list.append(Si)\n",
    "\n",
    "D, L, S = torch.cat(D_list, dim=0).to(device), torch.cat(L_list, dim=0).to(device), torch.cat(S_list, dim=0).to(device)\n",
    "\n",
    "data = CustomDataset(D, L, S)\n",
    "\n",
    "train_size = int(0.8 * len(data))\n",
    "valid_size = len(data) - train_size\n",
    "train_dataset, valid_dataset = torch.utils.data.random_split(data, [train_size, valid_size])\n",
    "\n",
    "batch_size = 8\n",
    "train_loader = DataLoader(train_dataset, batch_size=batch_size, shuffle=True)\n",
    "valid_loader = DataLoader(valid_dataset, batch_size=batch_size, shuffle=True)"
   ]
  },
  {
   "cell_type": "markdown",
   "metadata": {
    "id": "sgQ45gWfL69h"
   },
   "source": [
    "Create a model"
   ]
  },
  {
   "cell_type": "code",
   "execution_count": 27,
   "metadata": {
    "id": "WAtEDouWL7WB"
   },
   "outputs": [],
   "source": [
    "kernel_list = [5, 5, 5]\n",
    "coeff_L = 0.4\n",
    "coeff_S = 1.8\n",
    "net = CORONA(kernel_list, coeff_L=coeff_L, coeff_S=coeff_S)\n",
    "net = net.to(device)"
   ]
  },
  {
   "cell_type": "markdown",
   "metadata": {
    "id": "Dm6QET0qMgso"
   },
   "source": [
    "**Train the model**\n",
    "\n",
    "Requirements:\n",
    "* Determine the optimizer\n",
    "* Finish the training process"
   ]
  },
  {
   "cell_type": "code",
   "execution_count": null,
   "metadata": {
    "colab": {
     "base_uri": "https://localhost:8080/",
     "height": 1000
    },
    "id": "raFbk0juMjLX",
    "outputId": "a3ac7b0c-e609-43fb-cb5a-773e6bfc6ee1"
   },
   "outputs": [],
   "source": [
    "max_epochs = 100\n",
    "alpha = 0.5\n",
    "\n",
    "optimizer = torch.optim.Adam(lr=2e-3, params=net.parameters())\n",
    "scheduler = torch.optim.lr_scheduler.StepLR(optimizer, 10, 0.7)\n",
    "\n",
    "min_valid_loss = np.inf\n",
    "\n",
    "train_loss_list = []\n",
    "valid_loss_list = []\n",
    "\n",
    "for epoch in range(max_epochs):\n",
    "    \n",
    "    net.train()\n",
    "    train_loss = 0\n",
    "    for i, ([D], target) in enumerate(train_loader):\n",
    "        optimizer.zero_grad()\n",
    "        loss = get_loss(net, D, target, alpha)\n",
    "        train_loss += loss.detach()\n",
    "        loss.backward()\n",
    "        optimizer.step()\n",
    "        # if i % 5 == 0:\n",
    "        #     print(f'{i}th batch')\n",
    "    train_loss /= train_size / batch_size\n",
    "    train_loss = train_loss.item()\n",
    "    train_loss_list.append(train_loss)\n",
    "\n",
    "    \n",
    "    net.eval()\n",
    "    valid_loss = 0\n",
    "    for [D], target in valid_loader:\n",
    "        valid_loss += get_loss(net, D, target, alpha).detach()\n",
    "    valid_loss /= valid_size / batch_size\n",
    "    valid_loss = valid_loss.item()\n",
    "    valid_loss_list.append(valid_loss)\n",
    "\n",
    "    if valid_loss < min_valid_loss:\n",
    "        net_best = net\n",
    "        min_valid_loss = valid_loss\n",
    "    \n",
    "        \n",
    "    scheduler.step()\n",
    "\n",
    "    torch.cuda.empty_cache()\n",
    "    print(f'Epoch {epoch} completed with {train_loss = } and {valid_loss = }')\n",
    "\n",
    "net = net_best"
   ]
  },
  {
   "cell_type": "markdown",
   "metadata": {
    "id": "jjoH-wUYVIjX"
   },
   "source": [
    "**Save the model and the results**\n",
    "\n",
    "Requirements:\n",
    "* Create a folder\n",
    "* Save the model (net) and results (training/validation loss list) to the folder\n",
    "\n",
    "Hint:\n",
    "* You can use 'Path().mkdir()' to create a folder\n",
    "* You can use 'torch.save' to save the model\n",
    "* You can use 'np.savez' to save the results"
   ]
  },
  {
   "cell_type": "code",
   "execution_count": 16,
   "metadata": {
    "id": "KjQhHpSqVnLt"
   },
   "outputs": [],
   "source": [
    "model_folder = 'model'\n",
    "os.makedirs(model_folder, exist_ok=True)\n",
    "\n",
    "model_path = model_folder + '/model_data.pth'\n",
    "\n",
    "torch.save(net.state_dict(), model_path)\n",
    "\n",
    "np.savez(model_folder + '/history.npz', train=train_loss_list, valid=valid_loss_list)"
   ]
  },
  {
   "cell_type": "markdown",
   "metadata": {
    "id": "pBSGS8qZ0wem"
   },
   "source": [
    "Uploading model for a test."
   ]
  },
  {
   "cell_type": "code",
   "execution_count": null,
   "metadata": {
    "colab": {
     "base_uri": "https://localhost:8080/"
    },
    "id": "K2dKv4Y70wEO",
    "outputId": "d9291181-9f2f-4ed6-d35c-7b6ee2da339e"
   },
   "outputs": [],
   "source": [
    "model = CORONA(kernel_list, coeff_L=coeff_L, coeff_S=coeff_S)\n",
    "model.load_state_dict(torch.load(model_folder+'/model_data.pth'))\n",
    "model.eval()"
   ]
  },
  {
   "cell_type": "markdown",
   "metadata": {
    "id": "fw5fiNvQVnyd"
   },
   "source": [
    "**Plot the figures**\n",
    "\n",
    "Requirements:\n",
    "* Create a folder called 'fig_folder' and save the figure in this folder"
   ]
  },
  {
   "cell_type": "code",
   "execution_count": 25,
   "metadata": {
    "colab": {
     "base_uri": "https://localhost:8080/",
     "height": 472
    },
    "id": "HiU7cQiFVoQ9",
    "outputId": "17dc3e78-04e6-4cfc-b940-02164323cac5"
   },
   "outputs": [
    {
     "data": {
      "image/png": "[encoded data removed]",
      "text/plain": [
       "<Figure size 640x480 with 1 Axes>"
      ]
     },
     "metadata": {},
     "output_type": "display_data"
    }
   ],
   "source": [
    "fig_folder='fig_folder'\n",
    "os.makedirs(fig_folder, exist_ok=True)\n",
    "\n",
    "num_epochs = len(train_loss_list)\n",
    "x_range = np.arange(num_epochs) + 1\n",
    "\n",
    "plt.figure()\n",
    "plt.plot(x_range, train_loss_list, label='Training')\n",
    "plt.plot(x_range, valid_loss_list, label='Validation')\n",
    "plt.title('Loss')\n",
    "plt.xlabel('Epoch index')\n",
    "plt.legend()\n",
    "plt.grid()\n",
    "# plt.ylim((0, 1))\n",
    "\n",
    "plt.savefig(fig_folder + '/loss_plot.png')"
   ]
  },
  {
   "cell_type": "markdown",
   "metadata": {
    "id": "DYerh6P9WrQU"
   },
   "source": [
    "**Get the videos**\n",
    "\n",
    "Requirements:\n",
    "* Create a folder called 'pred_folder' and save the predictions in this folder\n",
    "* Create a folder called 'video_folder' and save the videos in this folder"
   ]
  },
  {
   "cell_type": "code",
   "execution_count": 29,
   "metadata": {
    "colab": {
     "base_uri": "https://localhost:8080/",
     "height": 1000
    },
    "id": "vAatYM2zWrmc",
    "outputId": "bd115ca2-f664-4c14-9b3d-4eb718b083ae"
   },
   "outputs": [],
   "source": [
    "#(?) Create 'pred_folder' and 'video_folder'\n",
    "\n",
    "video_folder='video_folder'\n",
    "os.makedirs(video_folder, exist_ok=True)\n",
    "\n",
    "pred_folder='pred_folder'\n",
    "os.makedirs(pred_folder, exist_ok=True)\n",
    "\n",
    "data_dir = file_list[0]\n",
    "\n",
    "#\n",
    "num_frames = 40\n",
    "for file in file_list:\n",
    "    D = loadmat('data/' + file)['D']\n",
    "    D = torch.from_numpy(D).cfloat()\n",
    "    L = torch.empty(0)\n",
    "    S = torch.empty(0)\n",
    "    for k in range(0, D.shape[-1] - num_frames + 1, num_frames):\n",
    "        Dk = D[None, None, :, :, k:k + num_frames]\n",
    "        Dk = torch.cat([torch.real(Dk), torch.imag(Dk)], dim=-1)\n",
    "        Dk = Dk.to(device)\n",
    "\n",
    "        with torch.no_grad():\n",
    "            net.eval()\n",
    "            Lk, Sk = net(Dk)\n",
    "\n",
    "        Lk = Lk[..., :num_frames].cpu().detach().squeeze()\n",
    "        Sk = Sk[..., :num_frames].cpu().detach().squeeze()\n",
    "\n",
    "        L = torch.cat([L, Lk], dim=-1)\n",
    "        S = torch.cat([S, Sk], dim=-1)\n",
    "\n",
    "    savemat('%s/prediction_%s' % (pred_folder, file), {'L': L.numpy(), 'S': S.numpy()})\n",
    "\n",
    "    D = torch.real(D[..., :L.shape[-1]])\n",
    "    V = np.round(torch.cat([D, L, S], dim=1).numpy() * 255)\n",
    "    array_to_gray_video(V, '%s/video_%s.mp4' % (video_folder, file[:-4]), fps=30)"
   ]
  },
  {
   "cell_type": "code",
   "execution_count": null,
   "metadata": {
    "collapsed": false
   },
   "outputs": [],
   "source": []
  }
 ],
 "metadata": {
  "accelerator": "GPU",
  "colab": {
   "gpuType": "T4",
   "provenance": []
  },
  "kernelspec": {
   "display_name": "Python 3",
   "name": "python3"
  },
  "language_info": {
   "codemirror_mode": {
    "name": "ipython",
    "version": 3
   },
   "file_extension": ".py",
   "mimetype": "text/x-python",
   "name": "python",
   "nbconvert_exporter": "python",
   "pygments_lexer": "ipython3",
   "version": "3.12.2"
  }
 },
 "nbformat": 4,
 "nbformat_minor": 0
}
